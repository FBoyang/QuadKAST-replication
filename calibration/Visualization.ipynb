{
 "cells": [
  {
   "cell_type": "code",
   "execution_count": 1,
   "metadata": {},
   "outputs": [],
   "source": [
    "import joblib\n",
    "from assocplots.qqplot import *\n",
    "import matplotlib.pyplot as plt\n",
    "import os"
   ]
  },
  {
   "cell_type": "code",
   "execution_count": 2,
   "metadata": {},
   "outputs": [],
   "source": [
    "def read_pval(path):\n",
    "    pvals = []\n",
    "    genes = []\n",
    "    with open(path, 'rb') as f:\n",
    "        data = joblib.load(f)\n",
    "        for j, d in enumerate(data):\n",
    "            if d[0] == None:\n",
    "                continue\n",
    "            pvals.append(d[0])\n",
    "            genes.append(str(d[-5]))\n",
    "\n",
    "    return pvals,genes"
   ]
  },
  {
   "cell_type": "code",
   "execution_count": 4,
   "metadata": {},
   "outputs": [
    {
     "name": "stdout",
     "output_type": "stream",
     "text": [
      "9515\n",
      "9515\n",
      "9515\n",
      "9515\n"
     ]
    }
   ],
   "source": [
    "directory = \"QuadKAST-replication/calibration/self/filter4_pheno_all_0.001\"\n",
    "\n",
    "pvals1  = []\n",
    "genes1 = []\n",
    "for filename in os.listdir(directory):\n",
    "    f = os.path.join(directory, filename)\n",
    "    if os.path.isfile(f):\n",
    "        pvals,genes = read_pval(f)\n",
    "        for pval in pvals:\n",
    "            pvals1.append(pval)\n",
    "        for gene in genes:\n",
    "            genes1.append(gene)\n",
    "\n",
    "\n",
    "pvals1 = np.array(pvals1)\n",
    "print(len(pvals1))\n",
    "\n",
    "directory = \"QuadKAST-replication/calibration/self/filter4_pheno_common_0.001\"\n",
    "\n",
    "pvals2  = []\n",
    "genes2 = []\n",
    "for filename in os.listdir(directory):\n",
    "    f = os.path.join(directory, filename)\n",
    "    if os.path.isfile(f):\n",
    "        pvals,genes = read_pval(f)\n",
    "        for pval in pvals:\n",
    "            pvals2.append(pval)\n",
    "        for gene in genes:\n",
    "            genes2.append(gene)\n",
    "\n",
    "pvals2 = np.array(pvals2)\n",
    "print(len(pvals2))\n",
    "\n",
    "directory = \"QuadKAST-replication/calibration/self/filter4_pheno_rare_0.001\"\n",
    "\n",
    "pvals3  = []\n",
    "genes3 = []\n",
    "for filename in os.listdir(directory):\n",
    "    f = os.path.join(directory, filename)\n",
    "    if os.path.isfile(f):\n",
    "        pvals,genes = read_pval(f)\n",
    "        for pval in pvals:\n",
    "            pvals3.append(pval)\n",
    "        for gene in genes:\n",
    "            genes3.append(gene)\n",
    "\n",
    "pvals3 = np.array(pvals3)\n",
    "print(len(pvals3))\n",
    "\n",
    "directory = \"QuadKAST-replication/calibration/self/filter4_pheno_all_1\"\n",
    "\n",
    "pvals4  = []\n",
    "genes4 = []\n",
    "for filename in os.listdir(directory):\n",
    "    f = os.path.join(directory, filename)\n",
    "    if os.path.isfile(f):\n",
    "        pvals,genes = read_pval(f)\n",
    "        for pval in pvals:\n",
    "            pvals4.append(pval)\n",
    "        for gene in genes:\n",
    "            genes4.append(gene)\n",
    "\n",
    "pvals4 = np.array(pvals4)\n",
    "print(len(pvals4))"
   ]
  },
  {
   "cell_type": "code",
   "execution_count": null,
   "metadata": {},
   "outputs": [],
   "source": [
    "f, ax = plt.subplots(figsize=(8, 10), facecolor=\"w\", edgecolor=\"k\")\n",
    "qqplot(\n",
    "        [pvals1, pvals2, pvals3],\n",
    "           labels=['ALL', 'COMMON', 'RARE'], \n",
    "           color=['r', 'g', 'b'],\n",
    "           fill_dens=[0.1, 0.1, 0.1],\n",
    "           distribution='beta',\n",
    "      )\n",
    "\n",
    "plt.legend(prop={'size': 30, 'weight': 750},markerscale=2.,loc='upper left')\n",
    "plt.title(\"\")\n",
    "# plt.ylabel(r\"Empirical $-log_{10}{(P)}$\", size = 20, )\n",
    "plt.ylabel(\"\")\n",
    "# plt.xlabel(r\"Theoretical $-log_{10}{(P)}$\", size = 20, )\n",
    "plt.xlabel(\"\")\n",
    "plt.xlim(0, 5.0)\n",
    "plt.ylim(0, 5.0)\n",
    "plt.xticks(fontsize=30, weight=750)\n",
    "plt.yticks(fontsize=30, weight=750)\n",
    "\n",
    "for line in ax.lines:\n",
    "    line.set_markersize(10)\n",
    "\n",
    "for collection in ax.collections:\n",
    "    collection.set_linewidth(2)\n",
    "\n",
    "plt.show()"
   ]
  },
  {
   "cell_type": "code",
   "execution_count": null,
   "metadata": {},
   "outputs": [],
   "source": []
  }
 ],
 "metadata": {
  "kernelspec": {
   "display_name": "Python 3",
   "language": "python",
   "name": "python3"
  },
  "language_info": {
   "codemirror_mode": {
    "name": "ipython",
    "version": 3
   },
   "file_extension": ".py",
   "mimetype": "text/x-python",
   "name": "python",
   "nbconvert_exporter": "python",
   "pygments_lexer": "ipython3",
   "version": "3.8.5"
  },
  "orig_nbformat": 4
 },
 "nbformat": 4,
 "nbformat_minor": 2
}
